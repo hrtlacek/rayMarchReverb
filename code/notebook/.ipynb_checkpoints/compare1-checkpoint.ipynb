{
 "cells": [
  {
   "cell_type": "markdown",
   "metadata": {},
   "source": [
    "# CHeck against \n",
    "https://github.com/sunits/rir_simulator_python"
   ]
  },
  {
   "cell_type": "code",
   "execution_count": 1,
   "metadata": {},
   "outputs": [
    {
     "ename": "ModuleNotFoundError",
     "evalue": "No module named 'roomsimove_single'",
     "output_type": "error",
     "traceback": [
      "\u001b[0;31m---------------------------------------------------------------------------\u001b[0m",
      "\u001b[0;31mModuleNotFoundError\u001b[0m                       Traceback (most recent call last)",
      "\u001b[0;32m<ipython-input-1-5a77e198b418>\u001b[0m in \u001b[0;36m<module>\u001b[0;34m\u001b[0m\n\u001b[0;32m----> 1\u001b[0;31m \u001b[0;32mimport\u001b[0m \u001b[0mroomsimove_single\u001b[0m\u001b[0;34m\u001b[0m\u001b[0;34m\u001b[0m\u001b[0m\n\u001b[0m\u001b[1;32m      2\u001b[0m \u001b[0;32mimport\u001b[0m \u001b[0mipdb\u001b[0m\u001b[0;34m\u001b[0m\u001b[0;34m\u001b[0m\u001b[0m\n\u001b[1;32m      3\u001b[0m \u001b[0;32mimport\u001b[0m \u001b[0msoundfile\u001b[0m \u001b[0;32mas\u001b[0m \u001b[0msf\u001b[0m\u001b[0;34m\u001b[0m\u001b[0;34m\u001b[0m\u001b[0m\n\u001b[1;32m      4\u001b[0m \u001b[0;32mimport\u001b[0m \u001b[0molafilt\u001b[0m\u001b[0;34m\u001b[0m\u001b[0;34m\u001b[0m\u001b[0m\n\u001b[1;32m      5\u001b[0m \u001b[0;32mimport\u001b[0m \u001b[0mnumpy\u001b[0m \u001b[0;32mas\u001b[0m \u001b[0mnp\u001b[0m\u001b[0;34m\u001b[0m\u001b[0;34m\u001b[0m\u001b[0m\n",
      "\u001b[0;31mModuleNotFoundError\u001b[0m: No module named 'roomsimove_single'"
     ]
    }
   ],
   "source": [
    "import roomsimove_single\n",
    "import ipdb\n",
    "import soundfile as sf\n",
    "import olafilt\n",
    "import numpy as np\n",
    "import ipdb\n",
    "\n",
    "## To generate random rirs and convolve with signals\n",
    "#ipdb.set_trace()\n",
    "rir_if = roomsimove_single.RandomRIR(sampling_rate=16000)\n",
    "src = [np.random.rand(10000), np.random.rand(10000)]\n",
    "rev_sig = rir_if.reverberate(src, mic_cnt=2)\n",
    "\n",
    "\n",
    "\n",
    "rt60 = 0.4 # in seconds\n",
    "room_dim = [4.2, 3.4, 5.2] # in meters\n",
    "mic_pos1 = [2, 2, 2] # in  meters\n",
    "mic_pos2 = [2, 2, 1] # in  meters\n",
    "source_pos = [1, 1, 1] # in  meters\n",
    "sampling_rate = 16000\n",
    "\n",
    "mic_positions = [mic_pos1, mic_pos2]\n",
    "rir = roomsimove_single.do_everything(room_dim, mic_positions, source_pos, rt60)\n",
    "\n",
    "## Alternative method for more control\n",
    "# absorption = roomsimove_single.rt60_to_absorption(room_dim, rt60)\n",
    "# room = roomsimove_single.Room(room_dim, abs_coeff=absorption)\n",
    "# mic1 = roomsimove_single.Microphone(mic_pos1, 1,  \\\n",
    "#         orientation=[0.0, 0.0, 0.0], direction='omnidirectional')\n",
    "# mic2 = roomsimove_single.Microphone(mic_pos2, 2,  \\\n",
    "#         orientation=[0.0, 0.0, 0.0], direction='cardioid')\n",
    "# mics = [mic1, mic2]\n",
    "# sim_rir = roomsimove_single.RoomSim(sampling_rate, room, mics, RT60=rt60)\n",
    "# rir = sim_rir.create_rir(source_pos)\n",
    "# ipdb.set_trace()\n",
    "\n",
    "# [data, fs] = sf.read('data.wav',always_2d=True)\n",
    "# data =  data[:,0]\n",
    "# data_rev_ch1 = olafilt.olafilt(rir[:,0], data)\n",
    "# data_rev_ch2 = olafilt.olafilt(rir[:,1], data)\n",
    "# data_rev = np.array([data_rev_ch1, data_rev_ch2])\n",
    "# sf.write('data_rev.wav', data_rev.T, fs)\n",
    "\n",
    "\n"
   ]
  },
  {
   "cell_type": "code",
   "execution_count": null,
   "metadata": {},
   "outputs": [],
   "source": []
  }
 ],
 "metadata": {
  "kernelspec": {
   "display_name": "Python 3",
   "language": "python",
   "name": "python3"
  },
  "language_info": {
   "codemirror_mode": {
    "name": "ipython",
    "version": 3
   },
   "file_extension": ".py",
   "mimetype": "text/x-python",
   "name": "python",
   "nbconvert_exporter": "python",
   "pygments_lexer": "ipython3",
   "version": "3.7.4"
  }
 },
 "nbformat": 4,
 "nbformat_minor": 4
}
