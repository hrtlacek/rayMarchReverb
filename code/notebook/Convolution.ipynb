{
 "cells": [
  {
   "cell_type": "markdown",
   "metadata": {},
   "source": [
    "# Generation of example files"
   ]
  },
  {
   "cell_type": "code",
   "execution_count": 1,
   "metadata": {},
   "outputs": [],
   "source": [
    "from IPython.display import Audio\n",
    "import os\n",
    "from scipy.io import wavfile"
   ]
  },
  {
   "cell_type": "code",
   "execution_count": 2,
   "metadata": {},
   "outputs": [
    {
     "name": "stdout",
     "output_type": "stream",
     "text": [
      "Populating the interactive namespace from numpy and matplotlib\n"
     ]
    }
   ],
   "source": [
    "%pylab inline"
   ]
  },
  {
   "cell_type": "code",
   "execution_count": 3,
   "metadata": {},
   "outputs": [],
   "source": [
    "saveLoc = '../touchDesigner/data/convolved/'\n",
    "genDir = '../touchDesigner/data/generated/'"
   ]
  },
  {
   "cell_type": "code",
   "execution_count": 4,
   "metadata": {},
   "outputs": [],
   "source": [
    "testFile = 'drumLoop.wav'"
   ]
  },
  {
   "cell_type": "code",
   "execution_count": 5,
   "metadata": {},
   "outputs": [],
   "source": [
    "originals = ['../touchDesigner/data/scenes/shoebox2/RIRs/wav/rir441.wav', \n",
    "             '../touchDesigner/data/scenes/03 multiple reflection (parallel finite plates)/RIRs/wav/scene3_RIR_LS1_MP1.wav',\n",
    "             '../touchDesigner/data/scenes/01 single reflection (infinite plate)/RIRs/wav/scene1_RIR_Diffuse_LS1_MP1.wav',\n",
    "            '../touchDesigner/data/scenes/02 single reflection (finite plate)/RiRs/wav/scene2_RIR_1mPlate_rigid_LS1_MP1.wav']"
   ]
  },
  {
   "cell_type": "code",
   "execution_count": 6,
   "metadata": {},
   "outputs": [],
   "source": [
    "generated = ['ir_rir441_15.npy',\n",
    "             \"ir_scene3_RIR_LS1_MP1_27.npy\",\n",
    "            \"ir_scene1_RIR_Diffuse_LS1_MP1_0.npy\",\n",
    "            \"ir_scene2_RIR_1mPlate_rigid_LS1_MP1_99.npy\"]"
   ]
  },
  {
   "cell_type": "code",
   "execution_count": 7,
   "metadata": {},
   "outputs": [],
   "source": [
    "sr,x = wavfile.read(testFile)\n",
    "x = (x[:,0]+x[:,1])/2."
   ]
  },
  {
   "cell_type": "markdown",
   "metadata": {},
   "source": [
    "## Convolution"
   ]
  },
  {
   "cell_type": "code",
   "execution_count": 9,
   "metadata": {},
   "outputs": [
    {
     "name": "stderr",
     "output_type": "stream",
     "text": [
      "C:\\Users\\Patrik\\Anaconda3\\lib\\site-packages\\scipy\\io\\wavfile.py:273: WavFileWarning: Chunk (non-data) not understood, skipping it.\n",
      "  WavFileWarning)\n"
     ]
    }
   ],
   "source": [
    "for orig,gen in zip(originals,generated):\n",
    "    genfile = os.path.join(genDir,gen)\n",
    "    xGen = np.load(genfile)    \n",
    "    sr,xOrig = wavfile.read(orig)\n",
    "\n",
    "    \n",
    "    yOrig = convolve(x,xOrig)\n",
    "    yGen = convolve(x,xGen)\n",
    "    \n",
    "    yOrig /= max(yOrig)\n",
    "    yGen /= max(yGen)\n",
    "    \n",
    "    fLoc = os.path.join(saveLoc,'c_o'+gen[:-3]+'wav')\n",
    "    wavfile.write(fLoc,sr,yOrig)\n",
    "    \n",
    "    fLoc = os.path.join(saveLoc,'c_g'+gen[:-3]+'wav')\n",
    "    wavfile.write(fLoc,sr,yGen)\n",
    "    "
   ]
  },
  {
   "cell_type": "markdown",
   "metadata": {},
   "source": [
    "### Julia set file convolution\n",
    "(Done extra because there is no Reference)"
   ]
  },
  {
   "cell_type": "code",
   "execution_count": 11,
   "metadata": {},
   "outputs": [],
   "source": [
    "\n",
    "genfile = os.path.join(genDir,'julia.npy')\n",
    "xGen = np.load(genfile)    \n",
    "sr,xOrig = wavfile.read(orig)\n",
    "\n",
    "yGen = convolve(x,xGen)\n",
    "\n",
    "yGen /= max(yGen)\n",
    "\n",
    "\n",
    "fLoc = os.path.join(saveLoc,'c_gjuila.wav')\n",
    "wavfile.write(fLoc,sr,yGen)\n"
   ]
  },
  {
   "cell_type": "code",
   "execution_count": null,
   "metadata": {},
   "outputs": [],
   "source": []
  }
 ],
 "metadata": {
  "kernelspec": {
   "display_name": "Python 3",
   "language": "python",
   "name": "python3"
  },
  "language_info": {
   "codemirror_mode": {
    "name": "ipython",
    "version": 3
   },
   "file_extension": ".py",
   "mimetype": "text/x-python",
   "name": "python",
   "nbconvert_exporter": "python",
   "pygments_lexer": "ipython3",
   "version": "3.7.1"
  }
 },
 "nbformat": 4,
 "nbformat_minor": 2
}
