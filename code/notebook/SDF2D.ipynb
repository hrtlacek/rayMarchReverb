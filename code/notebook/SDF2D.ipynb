{
 "cells": [
  {
   "cell_type": "markdown",
   "metadata": {},
   "source": [
    "# 2D SDF Visualisation"
   ]
  },
  {
   "cell_type": "code",
   "execution_count": 1,
   "metadata": {},
   "outputs": [
    {
     "name": "stdout",
     "output_type": "stream",
     "text": [
      "Populating the interactive namespace from numpy and matplotlib\n"
     ]
    }
   ],
   "source": [
    "%pylab inline"
   ]
  },
  {
   "cell_type": "code",
   "execution_count": 2,
   "metadata": {},
   "outputs": [],
   "source": [
    "import tikzplotlib"
   ]
  },
  {
   "cell_type": "code",
   "execution_count": 3,
   "metadata": {},
   "outputs": [],
   "source": [
    "def length(p):\n",
    "    return linalg.norm(p,axis=2)"
   ]
  },
  {
   "cell_type": "code",
   "execution_count": 4,
   "metadata": {},
   "outputs": [],
   "source": [
    "def circle(p, rad = 1):\n",
    "    return length(p)-rad "
   ]
  },
  {
   "cell_type": "code",
   "execution_count": 5,
   "metadata": {},
   "outputs": [],
   "source": [
    "def render(f):\n",
    "    o = (f>0).astype(float16)+0.3\n",
    "    o -= (f%1>0.9)*0.6\n",
    "    return clip(o,0,1)"
   ]
  },
  {
   "cell_type": "markdown",
   "metadata": {},
   "source": [
    "## Rasterized 2D SDF"
   ]
  },
  {
   "cell_type": "code",
   "execution_count": 17,
   "metadata": {},
   "outputs": [
    {
     "data": {
      "image/png": "[encoded data removed]",
      "text/plain": [
       "<Figure size 432x288 with 1 Axes>"
      ]
     },
     "metadata": {
      "needs_background": "light"
     },
     "output_type": "display_data"
    }
   ],
   "source": [
    "figure(frameon=False)\n",
    "x = arange(-5, 5, 0.05)\n",
    "y = np.arange(-5, 5, 0.05)\n",
    "xx, yy = np.meshgrid(x, y)\n",
    "p = np.array([xx,yy]).T\n",
    "d = circle(p)\n",
    "color = render(d)\n",
    "imshow(color.astype(np.float32), cmap='gray')\n",
    "grid()\n",
    "fName = \"sdf2d\"\n",
    "# tikzplotlib.save(\"../../paper/DAFx20_Templates_LaTeX/img/\"+fName+\".png\", float_format='.4f')\n",
    "plt.show()"
   ]
  },
  {
   "cell_type": "markdown",
   "metadata": {},
   "source": [
    "# Visualization of Sphere tracing Process"
   ]
  },
  {
   "cell_type": "code",
   "execution_count": 7,
   "metadata": {},
   "outputs": [],
   "source": [
    "import matplotlib.lines as mlines\n",
    "import matplotlib.patches as mpatches"
   ]
  },
  {
   "cell_type": "markdown",
   "metadata": {},
   "source": [
    "## Noise function to generate more interesting terrain"
   ]
  },
  {
   "cell_type": "code",
   "execution_count": 8,
   "metadata": {
    "jupyter": {
     "source_hidden": true
    }
   },
   "outputs": [],
   "source": [
    "# FROM https://github.com/pvigier/perlin-numpy/blob/master/perlin2d.py\n",
    "\n",
    "def generate_perlin_noise_2d(shape, res):\n",
    "    def f(t):\n",
    "        return 6*t**5 - 15*t**4 + 10*t**3\n",
    "    \n",
    "    delta = (res[0] / shape[0], res[1] / shape[1])\n",
    "    d = (shape[0] // res[0], shape[1] // res[1])\n",
    "    grid = np.mgrid[0:res[0]:delta[0],0:res[1]:delta[1]].transpose(1, 2, 0) % 1\n",
    "    # Gradients\n",
    "    angles = 2*np.pi*np.random.rand(res[0]+1, res[1]+1)\n",
    "    gradients = np.dstack((np.cos(angles), np.sin(angles)))\n",
    "    g00 = gradients[0:-1,0:-1].repeat(d[0], 0).repeat(d[1], 1)\n",
    "    g10 = gradients[1:  ,0:-1].repeat(d[0], 0).repeat(d[1], 1)\n",
    "    g01 = gradients[0:-1,1:  ].repeat(d[0], 0).repeat(d[1], 1)\n",
    "    g11 = gradients[1:  ,1:  ].repeat(d[0], 0).repeat(d[1], 1)\n",
    "    # Ramps\n",
    "    n00 = np.sum(np.dstack((grid[:,:,0]  , grid[:,:,1]  )) * g00, 2)\n",
    "    n10 = np.sum(np.dstack((grid[:,:,0]-1, grid[:,:,1]  )) * g10, 2)\n",
    "    n01 = np.sum(np.dstack((grid[:,:,0]  , grid[:,:,1]-1)) * g01, 2)\n",
    "    n11 = np.sum(np.dstack((grid[:,:,0]-1, grid[:,:,1]-1)) * g11, 2)\n",
    "    # Interpolation\n",
    "    t = f(grid)\n",
    "    n0 = n00*(1-t[:,:,0]) + t[:,:,0]*n10\n",
    "    n1 = n01*(1-t[:,:,0]) + t[:,:,0]*n11\n",
    "    return np.sqrt(2)*((1-t[:,:,1])*n0 + t[:,:,1]*n1)\n",
    "        \n",
    "    \n",
    "np.random.seed(0)\n",
    "noise = generate_perlin_noise_2d((1024, 1024), (8, 8))\n",
    "# plt.imshow(noise, cmap='gray', interpolation='lanczos')\n",
    "# plt.colorbar()\n",
    "\n",
    "# plt.colorbar()\n",
    "# plt.show()"
   ]
  },
  {
   "cell_type": "code",
   "execution_count": 9,
   "metadata": {},
   "outputs": [],
   "source": [
    "def ground(p):\n",
    "    return p[:,:,0]+2.5+noise[0,(p[:,:,1]*20).round().astype(int16)]*2"
   ]
  },
  {
   "cell_type": "code",
   "execution_count": 10,
   "metadata": {},
   "outputs": [],
   "source": [
    "def wall(p):\n",
    "    return -p[:,:,1]+3"
   ]
  },
  {
   "cell_type": "code",
   "execution_count": 11,
   "metadata": {},
   "outputs": [],
   "source": [
    "def myMap(p):\n",
    "    d = minimum(ground(p),wall(p))\n",
    "    return d"
   ]
  },
  {
   "cell_type": "code",
   "execution_count": 12,
   "metadata": {},
   "outputs": [],
   "source": [
    "from matplotlib.patches import Arrow\n",
    "from matplotlib.patches import Circle\n",
    "\n",
    "def draw_arr(ax,x,y,x1,y1,col='k'):\n",
    "    \"\"\"\n",
    "    Draw an arrow in axis coordinates\n",
    "    \"\"\"\n",
    "    p = Arrow(y,x,y1-y,x1-x,width=50,facecolor='k',fill=True)\n",
    "#     p = Circle((y, x), r,facecolor=fillc,fill=fill,edgecolor=col)\n",
    "    ax.add_artist(p)\n",
    "\n",
    "def draw_circle(ax,x,y,r,col='k', fillc='w', fill=False):\n",
    "    \"\"\"\n",
    "    Draw a circle in axis coordinates\n",
    "    \"\"\"\n",
    "\n",
    "    p = Circle((y, x), r,facecolor=fillc,fill=fill,edgecolor=col)\n",
    "    ax.add_artist(p)\n",
    "\n",
    "\n",
    "def trace(ax,ro, res= 300):\n",
    "    tmin = 0.1\n",
    "    rd = array([0,1.])\n",
    "    p = ro\n",
    "    roDraw=(ro/20+0.5)*res\n",
    "    draw_circle(ax,roDraw[:,:,0],roDraw[:,:,1],5*200/res,col='b')\n",
    "    t = 0.01\n",
    "    lastP = roDraw\n",
    "    for i in range(100):\n",
    "#         draw_circle(ax,ro[:,:,0],ro[:,:,1],0.1)\n",
    "        d = myMap(p)\n",
    "    \n",
    "        pDraw = (p/20+0.5)*res\n",
    "        draw_circle(ax,pDraw[:,:,0],pDraw[:,:,1],(d/20)*res)\n",
    "        \n",
    "        t += d\n",
    "        p = ro+t*(rd)\n",
    "        \n",
    "        \n",
    "        draw_circle(ax,pDraw[:,:,0],pDraw[:,:,1],1*res/200,col='r',fillc='r', fill=True)\n",
    "        draw_arr(ax,lastP[:,:,0],lastP[:,:,1],pDraw[:,:,0],pDraw[:,:,1])\n",
    "        lastP = pDraw\n",
    "\n",
    "        if d<tmin:\n",
    "            d = myMap(p)\n",
    "            t += d\n",
    "            p = ro+t*(rd)\n",
    "            pDraw = (p/20+0.5)*res\n",
    "            break"
   ]
  },
  {
   "cell_type": "code",
   "execution_count": 16,
   "metadata": {},
   "outputs": [
    {
     "data": {
      "image/png": "[encoded data removed]",
      "text/plain": [
       "<Figure size 432x288 with 1 Axes>"
      ]
     },
     "metadata": {
      "needs_background": "light"
     },
     "output_type": "display_data"
    }
   ],
   "source": [
    "# figure(figsize=[10,10])\n",
    "figure(frameon=False)\n",
    "res = 2000\n",
    "x = linspace(-10, 10, res)\n",
    "y = linspace(-10, 10, res)\n",
    "xx, yy = np.meshgrid(x, y,)\n",
    "p = np.array([xx,yy]).T\n",
    "d = myMap(p)#minimum(ground(p),wall(p))+3\n",
    "# d = circle(p)\n",
    "color = render(d)\n",
    "imshow(color.astype(np.float32), cmap='gray', origin='lower',interpolation='quadric')\n",
    "# grid()\n",
    "# xlabel('x coordinate')\n",
    "# ylabel('y coordinate')\n",
    "fName = \"sdf2d\"\n",
    "# tikzplotlib.save(\"../../paper/DAFx20_Templates_LaTeX/img/\"+fName+\".tex\", float_format='.4f')\n",
    "\n",
    "\n",
    "ax = plt.gca()\n",
    "ax.set_aspect(1.)\n",
    "xlim([400,1500])\n",
    "ylim([500,1200])\n",
    "# grid()\n",
    "plt.axis('off')\n",
    "\n",
    "trace(ax,array([[[-1.3,-4.5]]]), res=res)\n",
    "fName = 'sphereTracingViz'\n",
    "# tikzplotlib.save(\"../../paper/DAFx20_Templates_LaTeX/img/\"+fName+\".tex\", float_format='.4f')\n",
    "# plt.savefig(\"../../paper/DAFx20_Templates_LaTeX/img/\"+fName+\".png\")\n",
    "plt.show()\n"
   ]
  },
  {
   "cell_type": "code",
   "execution_count": 34,
   "metadata": {},
   "outputs": [],
   "source": [
    "def rect(p):\n",
    "    r = array([1,1])\n",
    "    return length(clip(abs(p)-r, 0, 10e10))-0.7"
   ]
  },
  {
   "cell_type": "code",
   "execution_count": 63,
   "metadata": {},
   "outputs": [
    {
     "data": {
      "image/png": "[encoded data removed]",
      "text/plain": [
       "<Figure size 432x288 with 1 Axes>"
      ]
     },
     "metadata": {},
     "output_type": "display_data"
    }
   ],
   "source": [
    "figure(frameon=False)\n",
    "res = 2000\n",
    "x = linspace(-7.5, 7.5, res)\n",
    "y = linspace(-7.5, 7.5, res)\n",
    "xx, yy = np.meshgrid(x, y)\n",
    "p = np.array([xx,yy]).T\n",
    "d = rect(p)\n",
    "color = render(d)\n",
    "imshow(color.astype(np.float32), cmap='gray')\n",
    "\n",
    "plt.tick_params(\n",
    "    axis='both',          # changes apply to the x-axis\n",
    "    which='both',      # both major and minor ticks are affected\n",
    "    bottom=False,      # ticks along the bottom edge are off\n",
    "    top=False,         # ticks along the top edge are off\n",
    "    labelbottom=False,\n",
    "    labelleft=False,\n",
    "    left=False,\n",
    "    right=False)\n",
    "\n",
    "fName = \"sdf2dbox\"\n",
    "# plt.savefig(\"../../paper/DAFx20_Templates_LaTeX/img/\"+fName+\".png\",dpi=300)\n",
    "plt.show()"
   ]
  },
  {
   "cell_type": "code",
   "execution_count": null,
   "metadata": {},
   "outputs": [],
   "source": []
  }
 ],
 "metadata": {
  "kernelspec": {
   "display_name": "Python 3",
   "language": "python",
   "name": "python3"
  },
  "language_info": {
   "codemirror_mode": {
    "name": "ipython",
    "version": 3
   },
   "file_extension": ".py",
   "mimetype": "text/x-python",
   "name": "python",
   "nbconvert_exporter": "python",
   "pygments_lexer": "ipython3",
   "version": "3.7.1"
  }
 },
 "nbformat": 4,
 "nbformat_minor": 4
}
